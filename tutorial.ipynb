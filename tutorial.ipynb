{
 "cells": [
  {
   "cell_type": "markdown",
   "id": "60a81077-2bdd-4fa3-a790-51d64eecd690",
   "metadata": {},
   "source": [
    "# hpge-screening-pygeom tutorial"
   ]
  },
  {
   "cell_type": "code",
   "execution_count": 412,
   "id": "604eea58-db62-4f56-95fc-de26d7d3f1f7",
   "metadata": {},
   "outputs": [],
   "source": [
    "import pyg4ometry\n",
    "from legendhpges import make_hpge\n",
    "from l200geom import det_utils\n",
    "from l200geom import vis_utils\n",
    "\n",
    "import json\n",
    "from dataclasses import dataclass\n",
    "from typing import Literal\n",
    "from pyg4ometry import visualisation\n",
    "import argparse\n",
    "import numpy as np\n",
    "import logging\n",
    "from pathlib import Path\n",
    "from utils import visualise\n",
    "from matplotlib import pyplot as plt"
   ]
  },
  {
   "cell_type": "markdown",
   "id": "bfd4ce4d-ebcd-43a1-9614-065457a8b39f",
   "metadata": {},
   "source": [
    "## Simulation of a SAGE well detector \n",
    "### More info [Boulby HPGe Screening Paper](https://arxiv.org/pdf/2308.03444)\n",
    "\n",
    "In this example we simulate a slightly more complicated geometry, a SAGE well type detector with a aluminum holder and lead shield. This is the `lumpsey` detector with geometry from the Boubly HPGe screening paper.\n",
    "When creating geometry in Geant4 it is usually a good idea to make a diagram annotating the various dimensions. Below we see an example for this geometry, annotated with the extra dimensions (mostly reasonable guesses) to make an implementation of a detector similar to this."
   ]
  },
  {
   "cell_type": "markdown",
   "id": "b06ae713-0a0c-4856-b7ce-373c2ffb415c",
   "metadata": {},
   "source": [
    "![Alt text](lumpsey.png)"
   ]
  },
  {
   "cell_type": "markdown",
   "id": "bc2678b4-9e7e-4135-82a7-527fb112a605",
   "metadata": {},
   "source": []
  },
  {
   "cell_type": "markdown",
   "id": "f8cf97ad-af67-4e8d-a7cb-153654da620d",
   "metadata": {},
   "source": [
    "## World volume"
   ]
  },
  {
   "cell_type": "code",
   "execution_count": 421,
   "id": "5fced7d5-2d16-4dc9-9c26-74285b5e0a3e",
   "metadata": {},
   "outputs": [],
   "source": [
    "reg  = pyg4ometry.geant4.Registry()                                                                                                                                       \n",
    "ws   = pyg4ometry.geant4.solid.Box(\"ws\",400,400,400,reg)\n",
    "wl   = pyg4ometry.geant4.LogicalVolume(ws,\"G4_Galactic\",\"wl\",reg)\n",
    "reg.setWorld(wl)\n",
    "\n",
    "\n",
    "logic_list =[]\n",
    "logic_names=[]"
   ]
  },
  {
   "cell_type": "markdown",
   "id": "8d047fc4-c8d7-4b66-aaf5-23e430b2f548",
   "metadata": {},
   "source": [
    "## HPGe detector\n",
    "This HPGe detector is similar to a LEGEND ICPC in geometry, you can create a `metadata` block and use this to create the G4GenericPolycone representing the detector automatically.\n",
    "Note that the bottom of the detector is placed at the origin and represents our reference point."
   ]
  },
  {
   "cell_type": "code",
   "execution_count": 422,
   "id": "af8e507c-0945-4fda-bd33-a0624e5a1a93",
   "metadata": {},
   "outputs": [],
   "source": [
    "metadata = {\n",
    "    \"name\": \"Det\",\n",
    "    \"type\": \"icpc\",\n",
    "    \"production\": {\n",
    "      \"enrichment\": {\n",
    "        \"val\": 0.078,\n",
    "        \"unc\": 0.001\n",
    "      }\n",
    "\n",
    "    },\n",
    "   \"geometry\": {\n",
    "    \"height_in_mm\": 62,\n",
    "    \"radius_in_mm\": 42.5,\n",
    "    \"borehole\": {\n",
    "      \"radius_in_mm\": 18.5,\n",
    "      \"depth_in_mm\": 40.0\n",
    "    },\n",
    "    \"groove\": {\n",
    "      \"depth_in_mm\": 1,\n",
    "      \"radius_in_mm\": {\n",
    "        \"outer\": 4,\n",
    "        \"inner\": 3\n",
    "      }\n",
    "    },\n",
    "    \"pp_contact\": {\n",
    "      \"radius_in_mm\": 3,\n",
    "      \"depth_in_mm\": 0\n",
    "    },\n",
    "    \"taper\": {\n",
    "      \"top\": {\n",
    "        \"angle_in_deg\": 30,\n",
    "        \"height_in_mm\": 25\n",
    "      },\n",
    "      \"bottom\": {\n",
    "        \"angle_in_deg\": 45,\n",
    "        \"height_in_mm\": 0\n",
    "      },\n",
    "      \"borehole\": {\n",
    "        \"angle_in_deg\": 5,\n",
    "        \"height_in_mm\": 0\n",
    "      }\n",
    "    }\n",
    "\n",
    "   }\n",
    "}\n"
   ]
  },
  {
   "cell_type": "code",
   "execution_count": 423,
   "id": "94d6d49f-5c1b-41e7-b87a-2b761c78d1af",
   "metadata": {},
   "outputs": [],
   "source": [
    "if ('det_log' not in reg.logicalVolumeDict.keys()):\n",
    "    logical_detector  = make_hpge(metadata,name=\"det_log\",registry=reg)\n",
    "    logical_detector.pygeom_color_rgba = (0, 1, 1, .9)\n",
    "    physical_detector = pyg4ometry.geant4.PhysicalVolume([0,0,0],[0,0,0],logical_detector,\"det_phy\",wl,reg)\n",
    "    physical_detector.pygeom_active_dector = det_utils.RemageDetectorInfo(\"germanium\", \"001\")\n",
    "    \n",
    "    logic_list.append(logical_detector)\n",
    "\n",
    "\n"
   ]
  },
  {
   "cell_type": "code",
   "execution_count": 424,
   "id": "47db4cf8-d296-45be-a2a7-80228ee938ba",
   "metadata": {},
   "outputs": [
    {
     "name": "stdout",
     "output_type": "stream",
     "text": [
      "([0, 3, 3, 4, 4, 42.5, 42.5, 28.066243270259356, 18.5, 18.5, 0], [0, 0, 1, 1, 0, 0, 37, 62, 62, 22.0, 22.0])\n"
     ]
    },
    {
     "data": {
      "text/plain": [
       "[<matplotlib.lines.Line2D at 0x7f18dae23bb0>]"
      ]
     },
     "execution_count": 424,
     "metadata": {},
     "output_type": "execute_result"
    },
    {
     "data": {
      "image/png": "[encoded data removed]",
      "text/plain": [
       "<Figure size 640x480 with 1 Axes>"
      ]
     },
     "metadata": {},
     "output_type": "display_data"
    }
   ],
   "source": [
    "print(logical_detector._decode_polycone_coord())\n",
    "plt.plot(*logical_detector._decode_polycone_coord())"
   ]
  },
  {
   "cell_type": "markdown",
   "id": "39f8f5fb-8eb4-4093-90fa-c00cf782a973",
   "metadata": {},
   "source": [
    "## Outer Al shield\n",
    "The outer aluminium shielding represents a bounding box for the geometry. There are several ways to create this but here we implemented the union of `solid.Tubs` for the sides and top.\n",
    "Given that the origin of a `solid.Tubs` is the center care is needed to obtain the right transformation of the top relative to the sides."
   ]
  },
  {
   "cell_type": "code",
   "execution_count": 425,
   "id": "469ad88b-aba5-4884-99bb-e8050709da23",
   "metadata": {},
   "outputs": [],
   "source": [
    "if (\"top_outer_holder_log\" not in reg.logicalVolumeDict.keys()):\n",
    "    outer_height= 128\n",
    "    outer_thick=1.5\n",
    "    outer_diameter = 113\n",
    "    top_z = outer_height-58+outer_thick/2\n",
    "    sides_aluminium = pyg4ometry.geant4.solid.Tubs(\"side_al\",outer_diameter/2-outer_thick,outer_diameter/2,outer_height,0,2*np.pi,reg,\"mm\") #https://pyg4ometry.readthedocs.io/en/stable/autoapi/pyg4ometry/geant4/solid/Tubs/index.html\n",
    "    \n",
    "    top_aluminium = pyg4ometry.geant4.solid.Tubs(\"top_al\",0,outer_diameter/2,outer_thick,0,2*np.pi,reg,\"mm\") #https://pyg4ometry.readthedocs.io/en/stable/autoapi/pyg4ometry/geant4/solid/Tubs/index.html\n",
    "    \n",
    "    logical_al_top = pyg4ometry.geant4.LogicalVolume(top_aluminium,\"G4_Al\",\"top_outer_holder_log\",reg)\n",
    "    logical_al_top.pygeom_color_rgba = (0.3, 0.3, 0.3, 0.1)\n",
    "    logical_al_sides = pyg4ometry.geant4.LogicalVolume(sides_aluminium,\"G4_Al\",\"side_outer_holder_log\",reg)\n",
    "    logical_al_sides.pygeom_color_rgba = (0.7, 0.7, 0.7, 0.1)\n",
    "    physical_al_top = pyg4ometry.geant4.PhysicalVolume([0,0,0],[0,0,top_z],logical_al_top,\"top_outer_holder_phy\",wl,reg)\n",
    "    physical_al_sides = pyg4ometry.geant4.PhysicalVolume([0,0,0],[0,0,6],logical_al_sides,\"sides_outer_holder_phy\",wl,reg)\n",
    "\n",
    "    logic_list.append(logical_al_top)\n",
    "    logic_list.append(logical_al_sides)\n",
    "\n",
    "\n"
   ]
  },
  {
   "cell_type": "markdown",
   "id": "8c7d9120-b933-4585-87c2-c6648a366b11",
   "metadata": {},
   "source": [
    "## inner AL holder\n",
    "This is the most challenging part of the geometry can be made easier with `solid.GenericPolycone`\n",
    "A trick with this (sometimes tricky ) shape is the visualise it not rotating 2pi at first. Another trick is the plot r and z in 2D first"
   ]
  },
  {
   "cell_type": "code",
   "execution_count": 426,
   "id": "247929a4-911f-496a-9661-ff7b097a224f",
   "metadata": {},
   "outputs": [
    {
     "data": {
      "image/png": "[encoded data removed]",
      "text/plain": [
       "<Figure size 640x480 with 1 Axes>"
      ]
     },
     "metadata": {},
     "output_type": "display_data"
    }
   ],
   "source": [
    "if (\"inner_holder_log\" not in reg.logicalVolumeDict.keys()):\n",
    "\n",
    "    outer_rads=[5,15,15,32,32,54,54,44,44,16.5,16.5,43.5,43.5,40,40,5,5,41.25,41.25,5,5,42.5,42.5,5,5]\n",
    "    outer_z   =[0,0,10,10,20,20,28,28,111,111,109.5,109.5,48,48,38,38,35,35,25,25,24,24,22,22,0]\n",
    "    plt.plot(outer_rads,outer_z)\n",
    "    plt.show()\n",
    "    inner_al_inner = pyg4ometry.geant4.solid.GenericPolycone(\"inner_al\", 0,2*np.pi, outer_rads, outer_z, reg)\n",
    "    logic_al_inner=pyg4ometry.geant4.LogicalVolume(inner_al_inner,\"G4_Al\",\"inner_holder_log\",reg)\n",
    "    logic_al_inner.pygeom_color_rgba = (0, 0.7, 0, .3)\n",
    "\n",
    "    physical_al_inner = pyg4ometry.geant4.PhysicalVolume([0,0,0],[0,0,-48],logic_al_inner,\"inner_holder_phy\",wl,reg)\n",
    "    logic_list.append(logic_al_inner)"
   ]
  },
  {
   "cell_type": "markdown",
   "id": "b600f65a-94ba-49bb-9e46-aea98ffc354a",
   "metadata": {},
   "source": [
    "## lead shield\n",
    "The lead shield is simply a disk placed below the detector"
   ]
  },
  {
   "cell_type": "code",
   "execution_count": 427,
   "id": "7f311b0e-db73-44ad-afe7-ee7a0de0b7ca",
   "metadata": {},
   "outputs": [],
   "source": [
    "if (\"lead_shield_log\" not in reg.logicalVolumeDict.keys()):\n",
    "    z_offset=-18\n",
    "    inner_rad=5\n",
    "    outer_rad=41.25\n",
    "    height=10\n",
    "    lead_shield = pyg4ometry.geant4.solid.Tubs(\"lead_shield\",inner_rad,outer_rad,height,0,2*np.pi,reg,\"mm\") #https://pyg4ometry.readthedocs.io/en/stable/autoapi/pyg4ometry/geant4/solid/Tubs/index.html\n",
    "    \n",
    "    \n",
    "    logical_lead = pyg4ometry.geant4.LogicalVolume(lead_shield,\"G4_Pb\",\"lead_shield_log\",reg)\n",
    "    logical_lead.pygeom_color_rgba = (1, 1, 0.1, 0.5)\n",
    "    physical_lead = pyg4ometry.geant4.PhysicalVolume([0,0,0],[0,0,z_offset],logical_lead,\"lead_shield_phy\",wl,reg)\n",
    "    logic_list.append(logical_lead)\n",
    "\n"
   ]
  },
  {
   "cell_type": "code",
   "execution_count": null,
   "id": "f84c3698-6c2f-480b-a937-890af1e14c10",
   "metadata": {},
   "outputs": [],
   "source": [
    "visualise(wl,logic_list)"
   ]
  },
  {
   "cell_type": "code",
   "execution_count": null,
   "id": "8dca8d6d-c2fc-4a7b-8f3c-89d2206ca630",
   "metadata": {},
   "outputs": [],
   "source": []
  },
  {
   "cell_type": "code",
   "execution_count": null,
   "id": "bd21afac-c2ae-4619-bf4f-dfcffe4a5b12",
   "metadata": {},
   "outputs": [],
   "source": []
  },
  {
   "cell_type": "code",
   "execution_count": null,
   "id": "d9189f9d-64b8-4f64-8ae7-50af3bce84d2",
   "metadata": {},
   "outputs": [],
   "source": []
  }
 ],
 "metadata": {
  "kernelspec": {
   "display_name": "base",
   "language": "python",
   "name": "base"
  },
  "language_info": {
   "codemirror_mode": {
    "name": "ipython",
    "version": 3
   },
   "file_extension": ".py",
   "mimetype": "text/x-python",
   "name": "python",
   "nbconvert_exporter": "python",
   "pygments_lexer": "ipython3",
   "version": "3.10.12"
  }
 },
 "nbformat": 4,
 "nbformat_minor": 5
}
